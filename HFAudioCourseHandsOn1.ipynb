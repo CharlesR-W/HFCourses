{
  "nbformat": 4,
  "nbformat_minor": 0,
  "metadata": {
    "colab": {
      "provenance": [],
      "authorship_tag": "ABX9TyO6rQ8jIWLnSCXKsarPjuJe",
      "include_colab_link": true
    },
    "kernelspec": {
      "name": "python3",
      "display_name": "Python 3"
    },
    "language_info": {
      "name": "python"
    }
  },
  "cells": [
    {
      "cell_type": "markdown",
      "metadata": {
        "id": "view-in-github",
        "colab_type": "text"
      },
      "source": [
        "<a href=\"https://colab.research.google.com/github/CharlesR-W/HFCourses/blob/main/HFAudioCourseHandsOn1.ipynb\" target=\"_parent\"><img src=\"https://colab.research.google.com/assets/colab-badge.svg\" alt=\"Open In Colab\"/></a>"
      ]
    },
    {
      "cell_type": "code",
      "source": [
        "!pip install datasets transformers"
      ],
      "metadata": {
        "collapsed": true,
        "id": "8i2CItdKQqQc"
      },
      "execution_count": null,
      "outputs": []
    },
    {
      "cell_type": "code",
      "execution_count": null,
      "metadata": {
        "id": "aELQTidYP6sA"
      },
      "outputs": [],
      "source": [
        "from datasets import load_dataset\n",
        "vox = load_dataset(\"facebook/voxpopuli\",\"en\",split=\"train\",streaming=True)"
      ]
    },
    {
      "cell_type": "code",
      "source": [
        "examples = vox.take(3)\n",
        "example = list(examples)[2]"
      ],
      "metadata": {
        "id": "qLHQ-oKRRp7t"
      },
      "execution_count": null,
      "outputs": []
    },
    {
      "cell_type": "code",
      "source": [
        "example"
      ],
      "metadata": {
        "id": "C9BVrBQVQm5j"
      },
      "execution_count": null,
      "outputs": []
    },
    {
      "cell_type": "markdown",
      "source": [
        "\"Given the features that this example has, what kinds of audio tasks can you use this dataset for?\""
      ],
      "metadata": {
        "id": "V2Lo9ByPSdxc"
      }
    },
    {
      "cell_type": "markdown",
      "source": [
        "It's an audio, but with no speaker id.  You can do classification tasks of varying kinds, and asr.  I don't think you could readily do transcription"
      ],
      "metadata": {
        "id": "LJtzlS4PSjx0"
      }
    },
    {
      "cell_type": "code",
      "source": [
        "import librosa\n",
        "import numpy as np\n",
        "import matplotlib.pyplot as plt\n",
        "\n",
        "audio = example[\"audio\"]\n",
        "array, sample_rate = audio[\"array\"], audio[\"sampling_rate\"]\n",
        "\n",
        "librosa.display.waveshow(array, sr=sample_rate)"
      ],
      "metadata": {
        "id": "NroqrThnSWmH"
      },
      "execution_count": null,
      "outputs": []
    },
    {
      "cell_type": "code",
      "source": [
        "#AMPLITUDE spectrogram, not power\n",
        "D = librosa.stft(array)\n",
        "S_db = librosa.amplitude_to_db(np.abs(D), ref=np.max)\n",
        "\n",
        "librosa.display.specshow(S_db, sr=sample_rate, x_axis='time', y_axis='log')\n",
        "plt.colorbar()"
      ],
      "metadata": {
        "id": "SmD0thFnSvHd"
      },
      "execution_count": null,
      "outputs": []
    },
    {
      "cell_type": "code",
      "source": [
        "S = librosa.feature.melspectrogram(y=array, sr=sample_rate, fmax=8000)\n",
        "S_db = librosa.power_to_db(S, ref=np.max)\n",
        "\n",
        "librosa.display.specshow(S_db, sr=sample_rate, fmax=8000, x_axis='time', y_axis='mel')\n",
        "plt.colorbar()"
      ],
      "metadata": {
        "id": "fRkO1egyTrOv"
      },
      "execution_count": null,
      "outputs": []
    },
    {
      "cell_type": "code",
      "source": [
        "from transformers import pipeline\n",
        "asr = pipeline(\"automatic-speech-recognition\", model=\"openai/whisper-tiny\")\n",
        "transcribed = asr(array)\n",
        "correct = example[\"raw_text\"]\n",
        "\n",
        "print(\"Transcribed text:\\n\" + transcribed[\"text\"])\n",
        "print(\"Correct text:\\n\" + correct)"
      ],
      "metadata": {
        "id": "mDh4YXZZUNG0"
      },
      "execution_count": null,
      "outputs": []
    }
  ]
}